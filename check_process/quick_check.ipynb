{
 "cells": [
  {
   "cell_type": "code",
   "execution_count": 15,
   "id": "9a69cd41",
   "metadata": {},
   "outputs": [],
   "source": [
    "import pandas as pd\n",
    "DEFAULT_DB = '../db.csv'\n",
    "db = pd.read_csv(DEFAULT_DB)\n"
   ]
  },
  {
   "cell_type": "code",
   "execution_count": 16,
   "id": "a9d68c16",
   "metadata": {},
   "outputs": [
    {
     "data": {
      "text/html": [
       "<div>\n",
       "<style scoped>\n",
       "    .dataframe tbody tr th:only-of-type {\n",
       "        vertical-align: middle;\n",
       "    }\n",
       "\n",
       "    .dataframe tbody tr th {\n",
       "        vertical-align: top;\n",
       "    }\n",
       "\n",
       "    .dataframe thead th {\n",
       "        text-align: right;\n",
       "    }\n",
       "</style>\n",
       "<table border=\"1\" class=\"dataframe\">\n",
       "  <thead>\n",
       "    <tr style=\"text-align: right;\">\n",
       "      <th></th>\n",
       "      <th>id</th>\n",
       "      <th>surname</th>\n",
       "      <th>name</th>\n",
       "      <th>organisation</th>\n",
       "      <th>email</th>\n",
       "      <th>orcid</th>\n",
       "      <th>contribution_type</th>\n",
       "      <th>title</th>\n",
       "      <th>publication_date</th>\n",
       "      <th>publication_link</th>\n",
       "      <th>...</th>\n",
       "      <th>ancillary_data</th>\n",
       "      <th>notebook_filename</th>\n",
       "      <th>notebook_purpose</th>\n",
       "      <th>dataset_link</th>\n",
       "      <th>dataset_licence</th>\n",
       "      <th>dataset_type</th>\n",
       "      <th>dataset_comment</th>\n",
       "      <th>comment</th>\n",
       "      <th>cover_picture</th>\n",
       "      <th>cover_picture_Licence</th>\n",
       "    </tr>\n",
       "  </thead>\n",
       "  <tbody>\n",
       "    <tr>\n",
       "      <th>0</th>\n",
       "      <td>1</td>\n",
       "      <td>NaN</td>\n",
       "      <td>NaN</td>\n",
       "      <td>Department of Crop, Forest and Environmental S...</td>\n",
       "      <td>NaN</td>\n",
       "      <td>NaN</td>\n",
       "      <td>Peer reviewed publication</td>\n",
       "      <td>In situ detection of tree root distribution an...</td>\n",
       "      <td>2008</td>\n",
       "      <td>https://dx.doi.org/10.1093/treephys/28.10.1441</td>\n",
       "      <td>...</td>\n",
       "      <td>NaN</td>\n",
       "      <td>NaN</td>\n",
       "      <td>NaN</td>\n",
       "      <td>NaN</td>\n",
       "      <td>NaN</td>\n",
       "      <td>NaN</td>\n",
       "      <td>NaN</td>\n",
       "      <td>NaN</td>\n",
       "      <td>NaN</td>\n",
       "      <td>NaN</td>\n",
       "    </tr>\n",
       "    <tr>\n",
       "      <th>1</th>\n",
       "      <td>2</td>\n",
       "      <td>NaN</td>\n",
       "      <td>NaN</td>\n",
       "      <td>Department of Forest Science and Environment</td>\n",
       "      <td>NaN</td>\n",
       "      <td>NaN</td>\n",
       "      <td>Peer reviewed publication</td>\n",
       "      <td>Preliminary use of ground-penetrating radar an...</td>\n",
       "      <td>2008</td>\n",
       "      <td>https://dx.doi.org/10.1071/FP08062</td>\n",
       "      <td>...</td>\n",
       "      <td>NaN</td>\n",
       "      <td>NaN</td>\n",
       "      <td>NaN</td>\n",
       "      <td>NaN</td>\n",
       "      <td>NaN</td>\n",
       "      <td>NaN</td>\n",
       "      <td>NaN</td>\n",
       "      <td>NaN</td>\n",
       "      <td>NaN</td>\n",
       "      <td>NaN</td>\n",
       "    </tr>\n",
       "    <tr>\n",
       "      <th>2</th>\n",
       "      <td>3</td>\n",
       "      <td>NaN</td>\n",
       "      <td>NaN</td>\n",
       "      <td>Department of Crop, Forest and Environmental S...</td>\n",
       "      <td>NaN</td>\n",
       "      <td>NaN</td>\n",
       "      <td>Peer reviewed publication</td>\n",
       "      <td>Multi-electrode 3D resistivity imaging of alfa...</td>\n",
       "      <td>2009</td>\n",
       "      <td>https://dx.doi.org/10.1016/j.eja.2009.08.005</td>\n",
       "      <td>...</td>\n",
       "      <td>NaN</td>\n",
       "      <td>NaN</td>\n",
       "      <td>NaN</td>\n",
       "      <td>NaN</td>\n",
       "      <td>NaN</td>\n",
       "      <td>NaN</td>\n",
       "      <td>NaN</td>\n",
       "      <td>NaN</td>\n",
       "      <td>NaN</td>\n",
       "      <td>NaN</td>\n",
       "    </tr>\n",
       "    <tr>\n",
       "      <th>3</th>\n",
       "      <td>4</td>\n",
       "      <td>NaN</td>\n",
       "      <td>NaN</td>\n",
       "      <td>Department of Crop, Forest and Environmental S...</td>\n",
       "      <td>NaN</td>\n",
       "      <td>NaN</td>\n",
       "      <td>Peer reviewed publication</td>\n",
       "      <td>Multielectrode Geoelectrical Tomography for th...</td>\n",
       "      <td>2010</td>\n",
       "      <td>https://dx.doi.org/10.4081/ija.2010.257</td>\n",
       "      <td>...</td>\n",
       "      <td>NaN</td>\n",
       "      <td>NaN</td>\n",
       "      <td>NaN</td>\n",
       "      <td>NaN</td>\n",
       "      <td>NaN</td>\n",
       "      <td>NaN</td>\n",
       "      <td>NaN</td>\n",
       "      <td>NaN</td>\n",
       "      <td>NaN</td>\n",
       "      <td>NaN</td>\n",
       "    </tr>\n",
       "    <tr>\n",
       "      <th>4</th>\n",
       "      <td>5</td>\n",
       "      <td>NaN</td>\n",
       "      <td>NaN</td>\n",
       "      <td>NaN</td>\n",
       "      <td>NaN</td>\n",
       "      <td>NaN</td>\n",
       "      <td>Peer reviewed publication</td>\n",
       "      <td>The use of three geophysical methods for 3D im...</td>\n",
       "      <td>2010</td>\n",
       "      <td>https://dx.doi.org/10.1071/EG09034</td>\n",
       "      <td>...</td>\n",
       "      <td>NaN</td>\n",
       "      <td>NaN</td>\n",
       "      <td>NaN</td>\n",
       "      <td>NaN</td>\n",
       "      <td>NaN</td>\n",
       "      <td>NaN</td>\n",
       "      <td>NaN</td>\n",
       "      <td>NaN</td>\n",
       "      <td>NaN</td>\n",
       "      <td>NaN</td>\n",
       "    </tr>\n",
       "  </tbody>\n",
       "</table>\n",
       "<p>5 rows × 38 columns</p>\n",
       "</div>"
      ],
      "text/plain": [
       "   id surname name                                       organisation email  \\\n",
       "0   1     NaN  NaN  Department of Crop, Forest and Environmental S...   NaN   \n",
       "1   2     NaN  NaN       Department of Forest Science and Environment   NaN   \n",
       "2   3     NaN  NaN  Department of Crop, Forest and Environmental S...   NaN   \n",
       "3   4     NaN  NaN  Department of Crop, Forest and Environmental S...   NaN   \n",
       "4   5     NaN  NaN                                                NaN   NaN   \n",
       "\n",
       "  orcid          contribution_type  \\\n",
       "0   NaN  Peer reviewed publication   \n",
       "1   NaN  Peer reviewed publication   \n",
       "2   NaN  Peer reviewed publication   \n",
       "3   NaN  Peer reviewed publication   \n",
       "4   NaN  Peer reviewed publication   \n",
       "\n",
       "                                               title publication_date  \\\n",
       "0  In situ detection of tree root distribution an...             2008   \n",
       "1  Preliminary use of ground-penetrating radar an...             2008   \n",
       "2  Multi-electrode 3D resistivity imaging of alfa...             2009   \n",
       "3  Multielectrode Geoelectrical Tomography for th...             2010   \n",
       "4  The use of three geophysical methods for 3D im...             2010   \n",
       "\n",
       "                                 publication_link  ... ancillary_data  \\\n",
       "0  https://dx.doi.org/10.1093/treephys/28.10.1441  ...            NaN   \n",
       "1              https://dx.doi.org/10.1071/FP08062  ...            NaN   \n",
       "2    https://dx.doi.org/10.1016/j.eja.2009.08.005  ...            NaN   \n",
       "3         https://dx.doi.org/10.4081/ija.2010.257  ...            NaN   \n",
       "4              https://dx.doi.org/10.1071/EG09034  ...            NaN   \n",
       "\n",
       "  notebook_filename notebook_purpose dataset_link dataset_licence  \\\n",
       "0               NaN              NaN          NaN             NaN   \n",
       "1               NaN              NaN          NaN             NaN   \n",
       "2               NaN              NaN          NaN             NaN   \n",
       "3               NaN              NaN          NaN             NaN   \n",
       "4               NaN              NaN          NaN             NaN   \n",
       "\n",
       "  dataset_type dataset_comment comment cover_picture cover_picture_Licence  \n",
       "0          NaN             NaN     NaN           NaN                   NaN  \n",
       "1          NaN             NaN     NaN           NaN                   NaN  \n",
       "2          NaN             NaN     NaN           NaN                   NaN  \n",
       "3          NaN             NaN     NaN           NaN                   NaN  \n",
       "4          NaN             NaN     NaN           NaN                   NaN  \n",
       "\n",
       "[5 rows x 38 columns]"
      ]
     },
     "execution_count": 16,
     "metadata": {},
     "output_type": "execute_result"
    }
   ],
   "source": [
    "db.head()"
   ]
  },
  {
   "cell_type": "code",
   "execution_count": 17,
   "id": "3a307496",
   "metadata": {},
   "outputs": [
    {
     "data": {
      "text/plain": [
       "[]"
      ]
     },
     "execution_count": 17,
     "metadata": {},
     "output_type": "execute_result"
    }
   ],
   "source": [
    "db.index[db['publication_date'].apply(lambda x: isinstance(x, str)) == False].tolist()\n"
   ]
  },
  {
   "cell_type": "markdown",
   "id": "a4b36cdd",
   "metadata": {},
   "source": [
    "## check methods"
   ]
  },
  {
   "cell_type": "code",
   "execution_count": 18,
   "id": "4e9f5011",
   "metadata": {},
   "outputs": [],
   "source": [
    "nan_method = db.index[db['method'].isnull().values== True].tolist()\n",
    "nostr_method = db.index[db['method'].apply(lambda x: isinstance(x, str)) == False].tolist()\n",
    "\n",
    "if len(nan_method) == len(nostr_method): \n",
    "    pass\n",
    "else:\n",
    "    for n in nostr_method:\n",
    "        if n in nan_method:\n",
    "            print(n)\n",
    "            pass\n",
    "        else:\n",
    "            print(db.iloc[n])"
   ]
  },
  {
   "cell_type": "code",
   "execution_count": null,
   "id": "2bf44fa5",
   "metadata": {},
   "outputs": [],
   "source": [
    "## check date"
   ]
  },
  {
   "cell_type": "code",
   "execution_count": 44,
   "id": "640b9ce0",
   "metadata": {},
   "outputs": [
    {
     "data": {
      "text/plain": [
       "0      False\n",
       "1      False\n",
       "2      False\n",
       "3      False\n",
       "4      False\n",
       "       ...  \n",
       "100    False\n",
       "101    False\n",
       "102    False\n",
       "103    False\n",
       "104    False\n",
       "Name: publication_date, Length: 105, dtype: bool"
      ]
     },
     "execution_count": 44,
     "metadata": {},
     "output_type": "execute_result"
    }
   ],
   "source": [
    "(db.applymap(np.isreal)['publication_date'] == True).any()\n",
    "db.applymap(np.isreal)['publication_date'] "
   ]
  },
  {
   "cell_type": "code",
   "execution_count": 41,
   "id": "6bb584f6",
   "metadata": {},
   "outputs": [
    {
     "data": {
      "text/plain": [
       "[]"
      ]
     },
     "execution_count": 41,
     "metadata": {},
     "output_type": "execute_result"
    }
   ],
   "source": [
    "import numpy as np\n",
    "wrong_date = db.index[db.applymap(np.isreal)['publication_date'] == True].tolist()\n",
    "wrong_date"
   ]
  },
  {
   "cell_type": "code",
   "execution_count": 14,
   "id": "3ebcd507",
   "metadata": {},
   "outputs": [],
   "source": [
    "nan_date = db.index[db['publication_date'].isnull().values== True].tolist()\n",
    "nostr_date = db.index[db['publication_date'].apply(lambda x: isinstance(x, str)) == False].tolist()\n",
    "\n",
    "if len(nan_date) == len(nostr_date): \n",
    "    pass\n",
    "else:\n",
    "    for n in nostr_date:\n",
    "        if n in nan_date:\n",
    "            print(n)\n",
    "            pass\n",
    "        else:\n",
    "            print(db.iloc[n])"
   ]
  },
  {
   "cell_type": "markdown",
   "id": "b8356b06",
   "metadata": {},
   "source": [
    "## check DOI"
   ]
  },
  {
   "cell_type": "code",
   "execution_count": 12,
   "id": "c59f23d1",
   "metadata": {},
   "outputs": [],
   "source": [
    "nan_DOI = db.index[db['publication_link'].isnull().values== True].tolist()\n",
    "nostr_DOI = db.index[db['publication_link'].apply(lambda x: isinstance(x, str)) == False].tolist()\n",
    "\n",
    "if len(nan_DOI) == len(nostr_DOI): \n",
    "    pass\n",
    "else:\n",
    "    for n in nostr_DOI:\n",
    "        if n in nan_DOI:\n",
    "            print(n)\n",
    "            pass\n",
    "        else:\n",
    "            print(db.iloc[n])"
   ]
  }
 ],
 "metadata": {
  "kernelspec": {
   "display_name": "Python 3 (ipykernel)",
   "language": "python",
   "name": "python3"
  },
  "language_info": {
   "codemirror_mode": {
    "name": "ipython",
    "version": 3
   },
   "file_extension": ".py",
   "mimetype": "text/x-python",
   "name": "python",
   "nbconvert_exporter": "python",
   "pygments_lexer": "ipython3",
   "version": "3.9.5"
  }
 },
 "nbformat": 4,
 "nbformat_minor": 5
}
